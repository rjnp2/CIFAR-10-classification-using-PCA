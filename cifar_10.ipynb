{
  "nbformat": 4,
  "nbformat_minor": 5,
  "metadata": {
    "accelerator": "GPU",
    "colab": {
      "name": "cifar-10.ipynb",
      "provenance": [],
      "collapsed_sections": []
    },
    "kernelspec": {
      "display_name": "Python 3",
      "language": "python",
      "name": "python3"
    },
    "language_info": {
      "codemirror_mode": {
        "name": "ipython",
        "version": 3
      },
      "file_extension": ".py",
      "mimetype": "text/x-python",
      "name": "python",
      "nbconvert_exporter": "python",
      "pygments_lexer": "ipython3",
      "version": "3.8.5"
    }
  },
  "cells": [
    {
      "cell_type": "markdown",
      "metadata": {
        "id": "IYGjWgvzzq0m"
      },
      "source": [
        "# Deep Learning Training using PCA with CIFAR - 10\n",
        "\n",
        "## Understanding the Data\n",
        "Before you go ahead and load the data, it's good to understand and look at the data that you will be working with!\n",
        "\n",
        "### CIFAR - 10\n",
        "The CIFAR-10 (Canadian Institute For Advanced Research) dataset consists of 60000 images each of 32x32x3 color images having ten classes, with 6000 images per category.\n",
        "The dataset consists of 50000 training images and 10000 test images.\n",
        "The classes in the dataset are airplane, automobile, bird, cat, deer, dog, frog, horse, ship, truck.\n",
        "You can download the CIFAR dataset from here, or you can also load it on the fly with the help of a deep learning library like Keras."
      ],
      "id": "IYGjWgvzzq0m"
    },
    {
      "cell_type": "code",
      "metadata": {
        "id": "driven-vertical"
      },
      "source": [
        "from keras.datasets import cifar10\n",
        "import numpy as np\n",
        "import pandas as pd"
      ],
      "id": "driven-vertical",
      "execution_count": null,
      "outputs": []
    },
    {
      "cell_type": "code",
      "metadata": {
        "colab": {
          "base_uri": "https://localhost:8080/"
        },
        "id": "alpine-ticket",
        "outputId": "1e5403c1-ddfc-45fe-d189-4acab4cb9102"
      },
      "source": [
        "(x_train, y_train), (x_test, y_test) = cifar10.load_data()\n",
        "print('Traning data shape:', x_train.shape,y_train.shape)\n",
        "print('Testing data shape:', x_test.shape,y_test.shape)"
      ],
      "id": "alpine-ticket",
      "execution_count": null,
      "outputs": [
        {
          "output_type": "stream",
          "text": [
            "Downloading data from https://www.cs.toronto.edu/~kriz/cifar-10-python.tar.gz\n",
            "170500096/170498071 [==============================] - 2s 0us/step\n",
            "Traning data shape: (50000, 32, 32, 3) (50000, 1)\n",
            "Testing data shape: (10000, 32, 32, 3) (10000, 1)\n"
          ],
          "name": "stdout"
        }
      ]
    },
    {
      "cell_type": "code",
      "metadata": {
        "colab": {
          "base_uri": "https://localhost:8080/"
        },
        "id": "greatest-aerospace",
        "outputId": "9eb80d06-28a3-4997-c12a-9be3e00b546d"
      },
      "source": [
        "# Find the unique numbers from the train labels\n",
        "classes = np.unique(y_train)\n",
        "nClasses = len(classes)\n",
        "print('Total number of outputs : ', nClasses)\n",
        "print('Output classes : ', classes)"
      ],
      "id": "greatest-aerospace",
      "execution_count": null,
      "outputs": [
        {
          "output_type": "stream",
          "text": [
            "Total number of outputs :  10\n",
            "Output classes :  [0 1 2 3 4 5 6 7 8 9]\n"
          ],
          "name": "stdout"
        }
      ]
    },
    {
      "cell_type": "code",
      "metadata": {
        "colab": {
          "base_uri": "https://localhost:8080/",
          "height": 225
        },
        "id": "boolean-price",
        "outputId": "65ad8d38-3a16-44d0-dfa8-7d474de42b64"
      },
      "source": [
        "import matplotlib.pyplot as plt\n",
        "%matplotlib inline\n",
        "\n",
        "label_dict = {\n",
        " 0: 'airplane',\n",
        " 1: 'automobile',\n",
        " 2: 'bird',\n",
        " 3: 'cat',\n",
        " 4: 'deer',\n",
        " 5: 'dog',\n",
        " 6: 'frog',\n",
        " 7: 'horse',\n",
        " 8: 'ship',\n",
        " 9: 'truck',\n",
        "}\n",
        "\n",
        "plt.figure(figsize=[5,5])\n",
        "\n",
        "# Display the first image in training data\n",
        "plt.subplot(121)\n",
        "curr_img = np.reshape(x_train[0], (32,32,3))\n",
        "plt.imshow(curr_img)\n",
        "print(plt.title(\"(Label: \" + str(label_dict[y_train[0][0]]) + \")\"))\n",
        "\n",
        "# Display the first image in testing data\n",
        "plt.subplot(122)\n",
        "curr_img = np.reshape(x_test[0],(32,32,3))\n",
        "plt.imshow(curr_img)\n",
        "print(plt.title(\"(Label: \" + str(label_dict[y_test[0][0]]) + \")\"))"
      ],
      "id": "boolean-price",
      "execution_count": null,
      "outputs": [
        {
          "output_type": "stream",
          "text": [
            "Text(0.5, 1.0, '(Label: frog)')\n",
            "Text(0.5, 1.0, '(Label: cat)')\n"
          ],
          "name": "stdout"
        },
        {
          "output_type": "display_data",
          "data": {
            "image/png": "[encoded data removed]",
            "text/plain": [
              "<Figure size 360x360 with 2 Axes>"
            ]
          },
          "metadata": {
            "tags": []
          }
        }
      ]
    },
    {
      "cell_type": "markdown",
      "metadata": {
        "id": "occasional-population"
      },
      "source": [
        "First, let's normalize the training and testing images. If you remember the training images were normalized in the PCA visualization part, so you only need to normalize the testing images. So, let's quickly do that!"
      ],
      "id": "occasional-population"
    },
    {
      "cell_type": "code",
      "metadata": {
        "colab": {
          "base_uri": "https://localhost:8080/"
        },
        "id": "driven-trinity",
        "outputId": "efa2963d-8c8b-4398-f253-9135b418a3dc"
      },
      "source": [
        "np.min(x_train),np.max(x_train)"
      ],
      "id": "driven-trinity",
      "execution_count": null,
      "outputs": [
        {
          "output_type": "execute_result",
          "data": {
            "text/plain": [
              "(0, 255)"
            ]
          },
          "metadata": {
            "tags": []
          },
          "execution_count": 6
        }
      ]
    },
    {
      "cell_type": "code",
      "metadata": {
        "id": "elder-blogger"
      },
      "source": [
        "x_train = x_train.astype('float16')\n",
        "x_train = x_train / 255.0\n",
        "\n",
        "x_test = x_test.astype('float16')\n",
        "x_test = x_test/255.0"
      ],
      "id": "elder-blogger",
      "execution_count": null,
      "outputs": []
    },
    {
      "cell_type": "code",
      "metadata": {
        "colab": {
          "base_uri": "https://localhost:8080/"
        },
        "id": "hollow-cancellation",
        "outputId": "95b1fc85-af7b-4df4-fe76-b19f49696fcb"
      },
      "source": [
        "np.min(x_train),np.max(x_train)"
      ],
      "id": "hollow-cancellation",
      "execution_count": null,
      "outputs": [
        {
          "output_type": "execute_result",
          "data": {
            "text/plain": [
              "(0.0, 1.0)"
            ]
          },
          "metadata": {
            "tags": []
          },
          "execution_count": 8
        }
      ]
    },
    {
      "cell_type": "code",
      "metadata": {
        "id": "informal-release"
      },
      "source": [
        "x_train_flat = x_train.reshape(-1,3072)\n",
        "x_test_flat = x_test.reshape(-1,3072)"
      ],
      "id": "informal-release",
      "execution_count": null,
      "outputs": []
    },
    {
      "cell_type": "markdown",
      "metadata": {
        "id": "transsexual-antarctica"
      },
      "source": [
        "## Speed Up Deep Learning Training using PCA with CIFAR - 10 Dataset\n"
      ],
      "id": "transsexual-antarctica"
    },
    {
      "cell_type": "markdown",
      "metadata": {
        "id": "saving-pressure"
      },
      "source": [
        "Here, you can also pass how much variance you want PCA to capture. Let's pass 0.95 as a parameter to the PCA model, which means that PCA will hold 90% of the variance and the number of components required to capture 95% variance will be used."
      ],
      "id": "saving-pressure"
    },
    {
      "cell_type": "code",
      "metadata": {
        "colab": {
          "background_save": true
        },
        "id": "operating-munich"
      },
      "source": [
        "from sklearn.decomposition import PCA\n",
        "pca = PCA(0.95)\n",
        "principalComponents_cifar = pca.fit(x_train_flat)"
      ],
      "id": "operating-munich",
      "execution_count": null,
      "outputs": []
    },
    {
      "cell_type": "markdown",
      "metadata": {
        "id": "alike-greeting"
      },
      "source": [
        "Now let's find out how many n_components PCA used to capture 0.95 variance."
      ],
      "id": "alike-greeting"
    },
    {
      "cell_type": "code",
      "metadata": {
        "colab": {
          "background_save": true
        },
        "id": "ignored-cincinnati",
        "outputId": "0f925a2e-ddfd-4e8f-a662-3a10d2b4e8f4"
      },
      "source": [
        "pca.n_components_"
      ],
      "id": "ignored-cincinnati",
      "execution_count": null,
      "outputs": [
        {
          "output_type": "execute_result",
          "data": {
            "text/plain": [
              "217"
            ]
          },
          "metadata": {
            "tags": []
          },
          "execution_count": 0
        }
      ]
    },
    {
      "cell_type": "markdown",
      "metadata": {
        "id": "smooth-rainbow"
      },
      "source": [
        "From the above output, you can observe that to achieve 90% variance, the dimension was reduced to 217 principal components from the actual 3072 dimensions.\n",
        "\n",
        "Finally, you will apply transform on both the training and test set to generate a transformed dataset from the parameters generated from the fit method."
      ],
      "id": "smooth-rainbow"
    },
    {
      "cell_type": "code",
      "metadata": {
        "id": "irish-distribution"
      },
      "source": [
        "train_img_pca = pca.transform(x_train_flat)\n",
        "test_img_pca = pca.transform(x_test_flat)"
      ],
      "id": "irish-distribution",
      "execution_count": 12,
      "outputs": []
    },
    {
      "cell_type": "markdown",
      "metadata": {
        "id": "internal-screening"
      },
      "source": [
        "Next, let's quickly import the necessary libraries to run the deep learning model."
      ],
      "id": "internal-screening"
    },
    {
      "cell_type": "code",
      "metadata": {
        "id": "constant-category"
      },
      "source": [
        "from keras.models import Sequential\n",
        "from keras.layers import Dense\n",
        "from keras.utils import np_utils\n",
        "from keras.optimizers import RMSprop"
      ],
      "id": "constant-category",
      "execution_count": 13,
      "outputs": []
    },
    {
      "cell_type": "markdown",
      "metadata": {
        "id": "coated-compromise"
      },
      "source": [
        "Now, you will convert your training and testing labels to one-hot encoding vector.\n",
        "\n"
      ],
      "id": "coated-compromise"
    },
    {
      "cell_type": "code",
      "metadata": {
        "id": "previous-february"
      },
      "source": [
        "y_train = np_utils.to_categorical(y_train)\n",
        "y_test = np_utils.to_categorical(y_test)"
      ],
      "id": "previous-february",
      "execution_count": 14,
      "outputs": []
    },
    {
      "cell_type": "code",
      "metadata": {
        "id": "subtle-reggae"
      },
      "source": [
        "# Let's define the number of epochs, number of classes, and the batch size for your model.\n",
        "batch_size = 128\n",
        "num_classes = 10\n",
        "epochs = 20"
      ],
      "id": "subtle-reggae",
      "execution_count": 15,
      "outputs": []
    },
    {
      "cell_type": "code",
      "metadata": {
        "id": "hairy-permission",
        "colab": {
          "base_uri": "https://localhost:8080/"
        },
        "outputId": "414532d9-ff01-4a28-f5ef-c285347af6d4"
      },
      "source": [
        "model = Sequential()\n",
        "model.add(Dense(1024, activation='relu', input_shape=(217,)))\n",
        "model.add(Dense(1024, activation='relu'))\n",
        "model.add(Dense(512, activation='relu'))\n",
        "model.add(Dense(256, activation='relu'))\n",
        "model.add(Dense(num_classes, activation='softmax'))\n",
        "\n",
        "model.summary()"
      ],
      "id": "hairy-permission",
      "execution_count": 20,
      "outputs": [
        {
          "output_type": "stream",
          "text": [
            "Model: \"sequential_1\"\n",
            "_________________________________________________________________\n",
            "Layer (type)                 Output Shape              Param #   \n",
            "=================================================================\n",
            "dense_5 (Dense)              (None, 1024)              223232    \n",
            "_________________________________________________________________\n",
            "dense_6 (Dense)              (None, 1024)              1049600   \n",
            "_________________________________________________________________\n",
            "dense_7 (Dense)              (None, 512)               524800    \n",
            "_________________________________________________________________\n",
            "dense_8 (Dense)              (None, 256)               131328    \n",
            "_________________________________________________________________\n",
            "dense_9 (Dense)              (None, 10)                2570      \n",
            "=================================================================\n",
            "Total params: 1,931,530\n",
            "Trainable params: 1,931,530\n",
            "Non-trainable params: 0\n",
            "_________________________________________________________________\n"
          ],
          "name": "stdout"
        }
      ]
    },
    {
      "cell_type": "code",
      "metadata": {
        "id": "outstanding-event",
        "colab": {
          "base_uri": "https://localhost:8080/"
        },
        "outputId": "3b2d3919-30e4-4507-d09c-6614dd208e72"
      },
      "source": [
        "model.compile(loss='categorical_crossentropy',\n",
        "              optimizer=RMSprop(),\n",
        "              metrics=['accuracy'])\n",
        "\n",
        "history = model.fit(train_img_pca, y_train,batch_size=batch_size,epochs=epochs,verbose=1,\n",
        "                    validation_data=(test_img_pca, y_test))"
      ],
      "id": "outstanding-event",
      "execution_count": 21,
      "outputs": [
        {
          "output_type": "stream",
          "text": [
            "Epoch 1/20\n",
            "391/391 [==============================] - 2s 4ms/step - loss: 1.7912 - accuracy: 0.3602 - val_loss: 1.4418 - val_accuracy: 0.4825\n",
            "Epoch 2/20\n",
            "391/391 [==============================] - 1s 3ms/step - loss: 1.3010 - accuracy: 0.5379 - val_loss: 1.3588 - val_accuracy: 0.5245\n",
            "Epoch 3/20\n",
            "391/391 [==============================] - 1s 3ms/step - loss: 1.0602 - accuracy: 0.6216 - val_loss: 1.3254 - val_accuracy: 0.5449\n",
            "Epoch 4/20\n",
            "391/391 [==============================] - 1s 3ms/step - loss: 0.8462 - accuracy: 0.6970 - val_loss: 1.3331 - val_accuracy: 0.5596\n",
            "Epoch 5/20\n",
            "391/391 [==============================] - 1s 3ms/step - loss: 0.6551 - accuracy: 0.7640 - val_loss: 1.4740 - val_accuracy: 0.5636\n",
            "Epoch 6/20\n",
            "391/391 [==============================] - 1s 3ms/step - loss: 0.4992 - accuracy: 0.8236 - val_loss: 1.6968 - val_accuracy: 0.5627\n",
            "Epoch 7/20\n",
            "391/391 [==============================] - 1s 3ms/step - loss: 0.3819 - accuracy: 0.8653 - val_loss: 1.8473 - val_accuracy: 0.5372\n",
            "Epoch 8/20\n",
            "391/391 [==============================] - 1s 3ms/step - loss: 0.3045 - accuracy: 0.8935 - val_loss: 2.3053 - val_accuracy: 0.5567\n",
            "Epoch 9/20\n",
            "391/391 [==============================] - 1s 3ms/step - loss: 0.2566 - accuracy: 0.9132 - val_loss: 2.3476 - val_accuracy: 0.5554\n",
            "Epoch 10/20\n",
            "391/391 [==============================] - 1s 3ms/step - loss: 0.2201 - accuracy: 0.9272 - val_loss: 2.4639 - val_accuracy: 0.5654\n",
            "Epoch 11/20\n",
            "391/391 [==============================] - 1s 3ms/step - loss: 0.1903 - accuracy: 0.9372 - val_loss: 2.7148 - val_accuracy: 0.5560\n",
            "Epoch 12/20\n",
            "391/391 [==============================] - 1s 3ms/step - loss: 0.1811 - accuracy: 0.9413 - val_loss: 2.9707 - val_accuracy: 0.5630\n",
            "Epoch 13/20\n",
            "391/391 [==============================] - 1s 3ms/step - loss: 0.1659 - accuracy: 0.9476 - val_loss: 3.1105 - val_accuracy: 0.5596\n",
            "Epoch 14/20\n",
            "391/391 [==============================] - 1s 3ms/step - loss: 0.1530 - accuracy: 0.9538 - val_loss: 3.4211 - val_accuracy: 0.5579\n",
            "Epoch 15/20\n",
            "391/391 [==============================] - 1s 3ms/step - loss: 0.1480 - accuracy: 0.9559 - val_loss: 3.4050 - val_accuracy: 0.5572\n",
            "Epoch 16/20\n",
            "391/391 [==============================] - 1s 3ms/step - loss: 0.1454 - accuracy: 0.9565 - val_loss: 3.1114 - val_accuracy: 0.5567\n",
            "Epoch 17/20\n",
            "391/391 [==============================] - 1s 3ms/step - loss: 0.1346 - accuracy: 0.9595 - val_loss: 3.4983 - val_accuracy: 0.5476\n",
            "Epoch 18/20\n",
            "391/391 [==============================] - 1s 3ms/step - loss: 0.1316 - accuracy: 0.9624 - val_loss: 3.9248 - val_accuracy: 0.5431\n",
            "Epoch 19/20\n",
            "391/391 [==============================] - 1s 3ms/step - loss: 0.1314 - accuracy: 0.9627 - val_loss: 3.3444 - val_accuracy: 0.5500\n",
            "Epoch 20/20\n",
            "391/391 [==============================] - 1s 3ms/step - loss: 0.1268 - accuracy: 0.9633 - val_loss: 3.8732 - val_accuracy: 0.5633\n"
          ],
          "name": "stdout"
        }
      ]
    },
    {
      "cell_type": "markdown",
      "metadata": {
        "id": "attached-lecture"
      },
      "source": [
        "From the above output, you can observe that the time taken for training each epoch was just 1 seconds on a GPU. The model did a decent job on the training data, achieving 96% accuracy while it achieved only 56% accuracy on the test dat. This means that it overfitted the training data. However, remember that the data was projected to 99 dimensions from 3072 dimensions and despite that it did a great job!\n",
        "\n",
        "Finally, let's see how much time the model takes to train on the original dataset and how much accuracy it can achieve using the same deep learning model."
      ],
      "id": "attached-lecture"
    },
    {
      "cell_type": "code",
      "metadata": {
        "id": "alternative-february",
        "colab": {
          "base_uri": "https://localhost:8080/"
        },
        "outputId": "944dc048-ed4f-48ad-ea6f-1511bbb89fe0"
      },
      "source": [
        "model = Sequential()\n",
        "model.add(Dense(1024, activation='relu', input_shape=(3072,)))\n",
        "model.add(Dense(1024, activation='relu'))\n",
        "model.add(Dense(512, activation='relu'))\n",
        "model.add(Dense(256, activation='relu'))\n",
        "model.add(Dense(num_classes, activation='softmax'))\n",
        "model.compile(loss='categorical_crossentropy',\n",
        "              optimizer=RMSprop(),\n",
        "              metrics=['accuracy'])\n",
        "\n",
        "history = model.fit(x_train_flat, y_train,batch_size=batch_size,epochs=epochs,verbose=1,\n",
        "                    validation_data=(x_test_flat, y_test))"
      ],
      "id": "alternative-february",
      "execution_count": 22,
      "outputs": [
        {
          "output_type": "stream",
          "text": [
            "Epoch 1/20\n",
            "391/391 [==============================] - 3s 6ms/step - loss: 2.9355 - accuracy: 0.1808 - val_loss: 1.8509 - val_accuracy: 0.3329\n",
            "Epoch 2/20\n",
            "391/391 [==============================] - 2s 5ms/step - loss: 1.8855 - accuracy: 0.3223 - val_loss: 1.7238 - val_accuracy: 0.3797\n",
            "Epoch 3/20\n",
            "391/391 [==============================] - 2s 5ms/step - loss: 1.7585 - accuracy: 0.3701 - val_loss: 1.7551 - val_accuracy: 0.3790\n",
            "Epoch 4/20\n",
            "391/391 [==============================] - 2s 6ms/step - loss: 1.6749 - accuracy: 0.4037 - val_loss: 1.6172 - val_accuracy: 0.4302\n",
            "Epoch 5/20\n",
            "391/391 [==============================] - 2s 5ms/step - loss: 1.6169 - accuracy: 0.4198 - val_loss: 1.6115 - val_accuracy: 0.4292\n",
            "Epoch 6/20\n",
            "391/391 [==============================] - 2s 5ms/step - loss: 1.5639 - accuracy: 0.4431 - val_loss: 1.6247 - val_accuracy: 0.4211\n",
            "Epoch 7/20\n",
            "391/391 [==============================] - 2s 5ms/step - loss: 1.5237 - accuracy: 0.4578 - val_loss: 1.5168 - val_accuracy: 0.4617\n",
            "Epoch 8/20\n",
            "391/391 [==============================] - 2s 5ms/step - loss: 1.5035 - accuracy: 0.4631 - val_loss: 1.5467 - val_accuracy: 0.4522\n",
            "Epoch 9/20\n",
            "391/391 [==============================] - 2s 5ms/step - loss: 1.4610 - accuracy: 0.4803 - val_loss: 1.5559 - val_accuracy: 0.4545\n",
            "Epoch 10/20\n",
            "391/391 [==============================] - 2s 5ms/step - loss: 1.4358 - accuracy: 0.4908 - val_loss: 1.5702 - val_accuracy: 0.4488\n",
            "Epoch 11/20\n",
            "391/391 [==============================] - 2s 5ms/step - loss: 1.4241 - accuracy: 0.4932 - val_loss: 1.6496 - val_accuracy: 0.4495\n",
            "Epoch 12/20\n",
            "391/391 [==============================] - 2s 5ms/step - loss: 1.3940 - accuracy: 0.5058 - val_loss: 1.5528 - val_accuracy: 0.4553\n",
            "Epoch 13/20\n",
            "391/391 [==============================] - 2s 5ms/step - loss: 1.3828 - accuracy: 0.5067 - val_loss: 1.5175 - val_accuracy: 0.4754\n",
            "Epoch 14/20\n",
            "391/391 [==============================] - 2s 5ms/step - loss: 1.3652 - accuracy: 0.5146 - val_loss: 1.8389 - val_accuracy: 0.4067\n",
            "Epoch 15/20\n",
            "391/391 [==============================] - 2s 5ms/step - loss: 1.3388 - accuracy: 0.5236 - val_loss: 1.5507 - val_accuracy: 0.4703\n",
            "Epoch 16/20\n",
            "391/391 [==============================] - 2s 5ms/step - loss: 1.3335 - accuracy: 0.5298 - val_loss: 1.5612 - val_accuracy: 0.4765\n",
            "Epoch 17/20\n",
            "391/391 [==============================] - 2s 5ms/step - loss: 1.3089 - accuracy: 0.5360 - val_loss: 1.5887 - val_accuracy: 0.4641\n",
            "Epoch 18/20\n",
            "391/391 [==============================] - 2s 5ms/step - loss: 1.3040 - accuracy: 0.5414 - val_loss: 1.5527 - val_accuracy: 0.4790\n",
            "Epoch 19/20\n",
            "391/391 [==============================] - 2s 5ms/step - loss: 1.2760 - accuracy: 0.5457 - val_loss: 1.6176 - val_accuracy: 0.4465\n",
            "Epoch 20/20\n",
            "391/391 [==============================] - 2s 5ms/step - loss: 1.2764 - accuracy: 0.5475 - val_loss: 1.7202 - val_accuracy: 0.4430\n"
          ],
          "name": "stdout"
        }
      ]
    },
    {
      "cell_type": "markdown",
      "metadata": {
        "id": "timely-passenger"
      },
      "source": [
        "From the above output, it is quite evident that the time taken for training each epoch was around 2 seconds on a CPU which was almost half times more than the model trained on the PCA output.\n",
        "\n",
        "Moreover, both the training and testing accuracy is less than the accuracy you achieved with the 99 principal components as an input to the model.\n",
        "\n",
        "So, by applying PCA on the training data you were able to train your deep learning algorithm not only fast, but it also achieved better accuracy on the testing data when compared with the deep learning algorithm trained with original training data."
      ],
      "id": "timely-passenger"
    },
    {
      "cell_type": "code",
      "metadata": {
        "id": "experienced-china"
      },
      "source": [
        ""
      ],
      "id": "experienced-china",
      "execution_count": null,
      "outputs": []
    }
  ]
}